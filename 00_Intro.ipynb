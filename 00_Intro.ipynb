{
 "cells": [
  {
   "cell_type": "markdown",
   "metadata": {},
   "source": [
    "# Introduction to Python\n",
    "\n",
    "## Using the tdt Package\n",
    "\n",
    "This primer walks through installing the tdt Python package, shows how to convert existing Matlab code to Python, and highlights some of the differences when working in Python.\n",
    "\n",
    "## Installation\n",
    "\n",
    "1. Make sure that you have [**Miniconda**](https://docs.conda.io/en/latest/miniconda.html) or [**Anaconda**](https://www.anaconda.com/distribution/) installed. You can choose the Python 3.7 64-bit version for your operating system (Linux, Windows, or OS X).\n",
    "2. **Open a terminal** (on Windows, `cmd`, not Powershell) and type:\n",
    "```\n",
    "pip install tdt\n",
    "```\n",
    "4. **Done**!\n",
    "\n",
    "\n",
    "## Converting Existing Matlab Code to Python\n",
    "\n",
    "The tdt Python library for reading TDT data is one-to-one compatible with the Matlab library, however the function names and parameter names are different.\n",
    "\n",
    "### Extracting Block Data\n",
    "\n",
    "**TDTbin2mat** extracts block data into a Matlab structure.  \n",
    "```\n",
    "data = TDTbin2mat(BLOCK_PATH);\n",
    "```\n",
    "The Python equivalent is **read_block**.\n",
    "```\n",
    "from tdt import read_block\n",
    "data = read_block(BLOCK_PATH)\n",
    "```\n",
    "**TDTbin2mat** and **read_block** share parameters, but the parameters have different names.\n",
    "\n",
    "#### Parameter Name Translation Table\n",
    "\n",
    "| Matlab | Python | Description |\n",
    "|----------|----------|----------------------------------------------------------------------------------------------------------------------------------------|\n",
    "| T1 | t1 | scalar, retrieve data starting at t1 (default = 0 for beginning of recording) |\n",
    "| T2 | t2 | scalar, retrieve data ending at t2 (default = 0 for end of recording) |\n",
    "| TYPE | evtype | array of strings, specifies what type of data stores to retrieve from the tank |\n",
    "| SORTNAME | sortname | string, specify sort ID to use when extracting snippets<br>(default = 'TankSort') |\n",
    "| RANGES | ranges | array of valid time range column vectors |\n",
    "| NODATA | nodata | bool, only return timestamps, channels, and sort codes for snippets<br>(default = false) |\n",
    "| STORE | store | string or list of strings, specify specific store(s) to extract |\n",
    "| CHANNEL | channel | integer, choose a single channel to extract from stream or snippet events |\n",
    "| BITWISE | bitwise | string, specify an epoc store or scalar store that contains a 32-bit integer.<br>Onsets/offsets from individual bits will be extracted |\n",
    "| HEADERS | headers | var, set to 1 to return only the headers for this block, if you need to<br>make fast consecutive calls to read_block |\n",
    "| COMBINE | combine | list, specify store(s) that were saved by the Strobed Data Storage gizmo<br> in Synapse. It will intelligently combine data into snippets. |\n",
    "\n",
    "### Epoc Filtering\n",
    "\n",
    "**TDTfilter** filters events around epoc events in Matlab.\n",
    "```\n",
    "data = TDTbin2mat(BLOCK_PATH);\n",
    "data = TDTfilter(data, 'Tick', 'TIME', [-0.3, 0.8], 'VALUES', [5, 10, 15]);\n",
    "```\n",
    "The Python equivalent is **epoc_filter**.\n",
    "```\n",
    "from tdt import read_block, epoc_filter\n",
    "data = read_block(BLOCK_PATH)\n",
    "data = epoc_filter(data, 'Tick', t=[-0.3, 0.8], values=[5, 10, 15])\n",
    "```\n",
    "**TDTbin2mat** and **read_block** share parameters, but the parameters have different names.\n",
    "\n",
    "#### Parameter Name Translation Table\n",
    "\n",
    "| Matlab | Python | Description |\n",
    "|-----------|-----------|------------------------------------------------------------------------------------------------------------------------------------------------------------------|\n",
    "| VALUES | values | array of allowed epoc values |\n",
    "| MODIFIERS | modifiers | array of allowed modifier values. For example, only allow time ranges<br>when allowed modifier occurred sometime during that event, <br>e.g. a correct animal response. |\n",
    "| TIME | t | onset/offset pair, extracts events around epoc onsets only |\n",
    "| TIMEREF | tref | boolean, set to True to use the epoc event onset as a time reference |\n",
    "| KEEPDATA | keepdata | boolean, keep the original stream data array and add a field<br>called'filtered' that holds the data from each valid time range |\n",
    "\n",
    "### Extracting SEV Data\n",
    "\n",
    "**SEV2mat** extracts SEV files from a given directory into a Matlab structure. These files are created on the RS4 Data Streamer or by enabling the Discrete Files option in the Synapse Stream Data Storage gizmo. Each SEV file contains a header and the raw binary data from a single channel.\n",
    "```\n",
    "data = SEV2mat(BLOCK_PATH);\n",
    "```\n",
    "The Python equivalent is **read_sev**.\n",
    "```\n",
    "from tdt import read_sev\n",
    "data = read_sev(BLOCK_PATH)\n",
    "```\n",
    "**SEV2mat** and **read_sev** share parameters, but the parameters have different names.\n",
    "\n",
    "#### Parameter Name Translation Table\n",
    "| Matlab | Python | Description |\n",
    "|-----------|------------|-----------------------------------------------------------------------------------------------------------------------------|\n",
    "| T1 | t1 | scalar, retrieve data starting at t1<br>(default = 0 for beginning of recording) |\n",
    "| T2 | t2 | scalar, retrieve data ending at t2<br>(default = 0 for end of recording) |\n",
    "| CHANNEL | channel | integer, returns the SEV data from specified channel only<br>(default = 0 for all channels) |\n",
    "| RANGES | ranges | array of valid time range column vectors |\n",
    "| JUSTNAMES | just_names | boolean, retrieve only the valid event names |\n",
    "| EVENTNAME | event_name | string, specific event name to retrieve data from |\n",
    "| VERBOSE | verbose | boolean, set to false to disable console output |\n",
    "| FS | fs | float, sampling rate override. Useful for lower sampling rate<br>recordings that aren't correctly written into the SEV header. |\n"
   ]
  },
  {
   "cell_type": "markdown",
   "metadata": {},
   "source": [
    "## Walkthrough\n",
    "Let's look at some basic concepts for working with Python and the tdt library.  \n",
    "\n",
    "***Python Tips!**\n",
    "\n",
    "Use `print` in Python in place of `disp` in Matlab.  \n",
    "`%` is a special command used mainly in Python notebooks  \n",
    "`#` creates a single-line comment in Python  \n",
    "Use `'''` to make a multi-line comment  \n",
    "\n",
    "First we'll import the critical libraries."
   ]
  },
  {
   "cell_type": "code",
   "execution_count": 1,
   "metadata": {},
   "outputs": [],
   "source": [
    "# this is a single line comment\n",
    "\n",
    "''' this is a comment\n",
    "spanning multiple lines'''\n",
    "\n",
    "# special call that tells notebook to show matlplotlib figures inline\n",
    "%matplotlib inline\n",
    "\n",
    "import matplotlib.pyplot as plt  # standard Python plotting library\n",
    "import numpy as np  # fundamental package for scientific computing, handles arrays and maths\n",
    "\n",
    "# import the primary functions from the tdt library only\n",
    "from tdt import read_block, read_sev, epoc_filter, download_demo_data"
   ]
  },
  {
   "cell_type": "markdown",
   "metadata": {},
   "source": [
    "***Python Tip!**\n",
    "\n",
    "Use the **\\_\\_doc\\_\\_** function to get help on a function."
   ]
  },
  {
   "cell_type": "code",
   "execution_count": 2,
   "metadata": {},
   "outputs": [
    {
     "name": "stdout",
     "output_type": "stream",
     "text": [
      "TDT tank data extraction.\n",
      "    \n",
      "    data = read_block(block_path), where block_path is a string, retrieves\n",
      "    all data from specified block directory in struct format. This reads\n",
      "    the binary tank data and requires no Windows-based software.\n",
      "\n",
      "    data.epocs      contains all epoc store data (onsets, offsets, values)\n",
      "    data.snips      contains all snippet store data (timestamps, channels,\n",
      "                    and raw data)\n",
      "    data.streams    contains all continuous data (sampling rate and raw\n",
      "                    data)\n",
      "    data.scalars    contains all scalar data (samples and timestamps)\n",
      "    data.info       contains additional information about the block\n",
      "    \n",
      "    optional keyword arguments:\n",
      "        t1          scalar, retrieve data starting at t1 (default = 0 for\n",
      "                        beginning of recording)\n",
      "        t2          scalar, retrieve data ending at t2 (default = 0 for end\n",
      "                        of recording)\n",
      "        sortname    string, specify sort ID to use when extracting snippets\n",
      "                        (default = 'TankSort')\n",
      "        evtype      array of strings, specifies what type of data stores to\n",
      "                        retrieve from the tank. Can contain 'all' (default),\n",
      "                        'epocs', 'snips', 'streams', or 'scalars'.\n",
      "                      example:\n",
      "                          data = read_block(block_path, evtype=['epocs','snips'])\n",
      "                              > returns only epocs and snips\n",
      "        ranges      array of valid time range column vectors.\n",
      "                      example:\n",
      "                          tr = np.array([[1,3],[2,4]])\n",
      "                          data = read_block(block_path, ranges=tr)\n",
      "                              > returns only data on t=[1,2) and [3,4)\n",
      "        nodata      boolean, only return timestamps, channels, and sort \n",
      "                        codes for snippets, no waveform data (default = false).\n",
      "                        Useful speed-up if not looking for waveforms\n",
      "        store       string, specify a single store to extract\n",
      "                    list of strings, specify multiple stores to extract\n",
      "        channel     integer, choose a single channel to extract from\n",
      "                        stream or snippet events. Default is 0, to extract\n",
      "                        all channels.\n",
      "        bitwise     string, specify an epoc store or scalar store that \n",
      "                        contains individual bits packed into a 32-bit \n",
      "                        integer. Onsets/offsets from individual bits will\n",
      "                        be extracted.\n",
      "        headers     var, set to 1 to return only the headers for this\n",
      "                        block, so that you can make repeated calls to read\n",
      "                        data without having to parse the TSQ file every\n",
      "                        time, for faster consecutive reads. Once created,\n",
      "                        pass in the headers using this parameter.\n",
      "                      example:\n",
      "                        heads = read_block(block_path, headers=1)\n",
      "                        data = read_block(block_path, headers=heads, evtype=['snips'])\n",
      "                        data = read_block(block_path, headers=heads, evtype=['streams'])\n",
      "        combine     list, specify one or more data stores that were saved \n",
      "                        by the Strobed Data Storage gizmo in Synapse (or an\n",
      "                        Async_Stream_store macro in OpenEx). By default,\n",
      "                        the data is stored in small chunks while the strobe\n",
      "                        is high. This setting allows you to combine these\n",
      "                        small chunks back into the full waveforms that were\n",
      "                        recorded while the strobe was enabled.\n",
      "                      example:\n",
      "                        data = read_block(block_path, combine=['StS1'])\n",
      "    \n"
     ]
    }
   ],
   "source": [
    "print(read_block.__doc__)"
   ]
  },
  {
   "cell_type": "code",
   "execution_count": 3,
   "metadata": {},
   "outputs": [
    {
     "name": "stdout",
     "output_type": "stream",
     "text": [
      "TDT tank data filter. Extract data around epoc events.\n",
      "    data = epoc_filter(data, epoc) where data is the output of read_block,\n",
      "    epoc is the name of the epoc to filter on, and parameter value pairs\n",
      "    define the filtering conditions.\n",
      "    \n",
      "    If no parameters are specified, then the time range of the epoc event\n",
      "    is used as a time filter.\n",
      "    \n",
      "    Also creates data.filter, a string that describes the filter applied.\n",
      "    Optional keyword arguments:\n",
      "        values      specify array of allowed values\n",
      "                      ex: tempdata = epoc_filter(data, 'Freq', values=[9000, 10000])\n",
      "                        > retrieves data when Freq = 9000 or Freq = 10000\n",
      "        modifiers   specify array of allowed modifier values.  For example,\n",
      "                      only allow time ranges when allowed modifier occurred\n",
      "                      sometime during that event, e.g. a correct animal response.\n",
      "                      ex: tempdata = epoc_filter(data, 'Resp', modifiers=[1])\n",
      "                        > retrieves data when Resp = 1 sometime during the allowed\n",
      "                        time range.\n",
      "        t           specify onset/offset pairs relative to epoc onsets. If the\n",
      "                      offset is not provided, the epoc offset is used.\n",
      "                      ex: tempdata = epoc_filter(data, 'Freq', t=[-0.1, 0.5])\n",
      "                        > retrieves data from 0.1 seconds before Freq onset to 0.4\n",
      "                          seconds after Freq onset. Negative time ranges are discarded.\n",
      "        tref        use the epoc event onset as a time reference. All timestamps for\n",
      "                      epoc, snippet, and scalar events are then relative to epoc onsets.\n",
      "                      ex: tempdata = epoc_filter(data, 'Freq', tref=True)\n",
      "                        > sets snippet timestamps relative to Freq onset\n",
      "        keepdata    keep the original stream data array and add a field called\n",
      "                      'filtered' that holds the data from each valid time range. \n",
      "                      Defaults to True.\n",
      "    \n",
      "    IMPORTANT! Use a time filter (t argument) only after all value filters have been set.\n",
      "    \n"
     ]
    }
   ],
   "source": [
    "print(epoc_filter.__doc__)"
   ]
  },
  {
   "cell_type": "code",
   "execution_count": 4,
   "metadata": {},
   "outputs": [
    {
     "name": "stdout",
     "output_type": "stream",
     "text": [
      "TDT sev file data extraction.\n",
      "    \n",
      "    data = read_sev(sev_dir), where sev_dir is a string, retrieves\n",
      "    all sev data from specified directory in struct format. sev_dir can\n",
      "    also be a single file. SEV files are generated by an RS4 Data Streamer,\n",
      "    or by enabling the Discrete Files option in the Synapse Stream Data\n",
      "    Storage gizmo, or by setting the Unique Channel Files option in \n",
      "    Stream_Store_MC or Stream_Store_MC2 macro to Yes in OpenEx.\n",
      "\n",
      "    data    contains all continuous data (sampling rate and raw data)\n",
      "    \n",
      "    optional keyword arguments:\n",
      "        t1          scalar, retrieve data starting at t1 (default = 0 for\n",
      "                        beginning of recording)\n",
      "        t2          scalar, retrieve data ending at t2 (default = 0 for end\n",
      "                        of recording)\n",
      "        channel     integer, returns the sev data from specified channel\n",
      "                        only (default = 0 for all channels)\n",
      "        ranges      array of valid time range column vectors\n",
      "        just_names  boolean, retrieve only the valid event names\n",
      "        event_name  string, specific event name to retrieve data from\n",
      "        verbose     boolean, set to false to disable console output\n",
      "        fs          float, sampling rate override. Useful for lower\n",
      "                        sampling rates that aren't correctly written into\n",
      "                        the SEV header.\n",
      "    \n"
     ]
    }
   ],
   "source": [
    "print(read_sev.__doc__)"
   ]
  },
  {
   "cell_type": "markdown",
   "metadata": {},
   "source": [
    "Download demo data from the TDT website"
   ]
  },
  {
   "cell_type": "code",
   "execution_count": 5,
   "metadata": {},
   "outputs": [
    {
     "name": "stdout",
     "output_type": "stream",
     "text": [
      "demo data ready\n"
     ]
    }
   ],
   "source": [
    "download_demo_data()"
   ]
  },
  {
   "cell_type": "markdown",
   "metadata": {},
   "source": [
    "This example uses our [example data sets](https://www.tdt.com/files/examples/TDTExampleData.zip). To import your own data, replace BLOCK_PATH with the full path to your own data block.\n",
    "\n",
    "In Synapse, you can find the block path in the database. Go to Menu > History. Find your block, then Right-Click > Copy path to clipboard."
   ]
  },
  {
   "cell_type": "code",
   "execution_count": 6,
   "metadata": {},
   "outputs": [
    {
     "name": "stdout",
     "output_type": "stream",
     "text": [
      "read from t=0s to t=61.23s\n"
     ]
    }
   ],
   "source": [
    "BLOCK_PATH = 'data/Algernon-180308-130351'\n",
    "data = read_block(BLOCK_PATH)"
   ]
  },
  {
   "cell_type": "code",
   "execution_count": 7,
   "metadata": {},
   "outputs": [
    {
     "name": "stdout",
     "output_type": "stream",
     "text": [
      "epocs\t[struct]\n",
      "snips\t[struct]\n",
      "streams\t[struct]\n",
      "scalars\t[struct]\n",
      "info\t[struct]\n",
      "time_ranges:\tarray([[ 0.],\n",
      "       [inf]])\n"
     ]
    }
   ],
   "source": [
    "print(data)"
   ]
  },
  {
   "cell_type": "markdown",
   "metadata": {},
   "source": [
    "**read_block** returns a structured object. It is a Python dictionary but also allows you to use the dot syntax like in Matlab, so you can access fields within the structure with either method. These two ways of looking at the block info field are equivalent:"
   ]
  },
  {
   "cell_type": "code",
   "execution_count": 8,
   "metadata": {},
   "outputs": [
    {
     "data": {
      "text/plain": [
       "tankpath:\t'data'\n",
       "blockname:\t'Algernon-180308-130351'\n",
       "start_date:\tdatetime.datetime(2018, 3, 8, 13, 3, 53)\n",
       "utc_start_time:\t'13:03:53'\n",
       "stop_date:\tdatetime.datetime(2018, 3, 8, 13, 4, 55)\n",
       "utc_stop_time:\t'13:04:55'\n",
       "duration:\tdatetime.timedelta(seconds=62)\n",
       "stream_channel:\t0\n",
       "snip_channel:\t0"
      ]
     },
     "execution_count": 8,
     "metadata": {},
     "output_type": "execute_result"
    }
   ],
   "source": [
    "data.info"
   ]
  },
  {
   "cell_type": "code",
   "execution_count": 9,
   "metadata": {},
   "outputs": [
    {
     "data": {
      "text/plain": [
       "tankpath:\t'data'\n",
       "blockname:\t'Algernon-180308-130351'\n",
       "start_date:\tdatetime.datetime(2018, 3, 8, 13, 3, 53)\n",
       "utc_start_time:\t'13:03:53'\n",
       "stop_date:\tdatetime.datetime(2018, 3, 8, 13, 4, 55)\n",
       "utc_stop_time:\t'13:04:55'\n",
       "duration:\tdatetime.timedelta(seconds=62)\n",
       "stream_channel:\t0\n",
       "snip_channel:\t0"
      ]
     },
     "execution_count": 9,
     "metadata": {},
     "output_type": "execute_result"
    }
   ],
   "source": [
    "data['info']"
   ]
  },
  {
   "cell_type": "markdown",
   "metadata": {},
   "source": [
    "These three methods to access the 'Wav1' store sampling rate are equivalent:"
   ]
  },
  {
   "cell_type": "code",
   "execution_count": 10,
   "metadata": {},
   "outputs": [
    {
     "data": {
      "text/plain": [
       "24414.0625"
      ]
     },
     "execution_count": 10,
     "metadata": {},
     "output_type": "execute_result"
    }
   ],
   "source": [
    "data.streams.Wav1.fs # dot syntax"
   ]
  },
  {
   "cell_type": "code",
   "execution_count": 11,
   "metadata": {},
   "outputs": [
    {
     "data": {
      "text/plain": [
       "24414.0625"
      ]
     },
     "execution_count": 11,
     "metadata": {},
     "output_type": "execute_result"
    }
   ],
   "source": [
    "data['streams']['Wav1']['fs'] # dict keys only"
   ]
  },
  {
   "cell_type": "code",
   "execution_count": 12,
   "metadata": {},
   "outputs": [
    {
     "data": {
      "text/plain": [
       "24414.0625"
      ]
     },
     "execution_count": 12,
     "metadata": {},
     "output_type": "execute_result"
    }
   ],
   "source": [
    "data['streams'].Wav1['fs'] # mix of dot syntax and dict keys"
   ]
  },
  {
   "cell_type": "markdown",
   "metadata": {},
   "source": [
    "***Python Tip!**\n",
    "\n",
    "Spaces are important in python. Commands like `for`, `if`, `elif`, `while`, and others require indents to track their nests\n",
    "```\n",
    "for foo in foo_list:\n",
    "    something\n",
    "    if foo == check:\n",
    "        conditional_something\n",
    "    elif:\n",
    "        still_in_for_loop\n",
    "    else:\n",
    "        still_in_for_loop\n",
    "\n",
    "out_of_loop\n",
    "```\n",
    "\n",
    "Accessing a field with the string dictionary key method is useful when using a variable name, such as this example which loops through all the stream store names and prints their sampling rates."
   ]
  },
  {
   "cell_type": "code",
   "execution_count": 13,
   "metadata": {},
   "outputs": [
    {
     "name": "stdout",
     "output_type": "stream",
     "text": [
      "Sampling rates in Algernon-180308-130351\n",
      "pNe1 498.2462 Hz\n",
      "Wav1 24414.0625 Hz\n",
      "LFP1 3051.7578 Hz\n"
     ]
    }
   ],
   "source": [
    "print('Sampling rates in', data.info.blockname)\n",
    "for store in data.streams.keys():\n",
    "    print(store, '{:.4f} Hz'.format(data.streams[store].fs))"
   ]
  },
  {
   "cell_type": "markdown",
   "metadata": {},
   "source": [
    "## Explore Stream events"
   ]
  },
  {
   "cell_type": "markdown",
   "metadata": {},
   "source": [
    "Let's look at the contents of the stream event structures"
   ]
  },
  {
   "cell_type": "code",
   "execution_count": 14,
   "metadata": {},
   "outputs": [
    {
     "name": "stdout",
     "output_type": "stream",
     "text": [
      "all stream stores\n",
      "pNe1\t[struct]\n",
      "Wav1\t[struct]\n",
      "LFP1\t[struct]\n"
     ]
    }
   ],
   "source": [
    "print('all stream stores')\n",
    "print(data.streams)"
   ]
  },
  {
   "cell_type": "code",
   "execution_count": 15,
   "metadata": {},
   "outputs": [
    {
     "name": "stdout",
     "output_type": "stream",
     "text": [
      "name:\t'Wav1'\n",
      "code:\t829841751\n",
      "size:\t2058\n",
      "type:\t33025\n",
      "type_str:\t'streams'\n",
      "ucf:\tFalse\n",
      "fs:\t24414.0625\n",
      "dform:\t0\n",
      "start_time:\t-4.000632568359375e-05\n",
      "data:\tarray([[ 1.0028159e-03,  1.0012799e-03,  9.9590386e-04, ...,\n",
      "        -1.5983999e-03, -1.5984639e-03, -1.5852799e-03],\n",
      "       [ 5.5667193e-04,  5.6723197e-04,  5.6083198e-04, ...,\n",
      "        -1.4531199e-03, -1.4584319e-03, -1.4480639e-03],\n",
      "       [-4.6534397e-04, -4.5804796e-04, -4.6521597e-04, ...,\n",
      "        -1.2184319e-03, -1.2098559e-03, -1.2177919e-03],\n",
      "       ...,\n",
      "       [ 2.9247998e-05,  2.3295999e-05,  3.2191998e-05, ...,\n",
      "        -2.2208637e-03, -2.2241918e-03, -2.2300798e-03],\n",
      "       [ 7.2191993e-04,  7.1571197e-04,  7.2358397e-04, ...,\n",
      "        -2.1401597e-03, -2.1399679e-03, -2.1494399e-03],\n",
      "       [ 2.3078399e-04,  2.3590398e-04,  2.4435198e-04, ...,\n",
      "        -1.3180159e-03, -1.3103359e-03, -1.3012479e-03]], dtype=float32)\n"
     ]
    }
   ],
   "source": [
    "print(data.streams.Wav1)"
   ]
  },
  {
   "cell_type": "markdown",
   "metadata": {},
   "source": [
    "The actual data is store in numpy arrays.  For a multi-channel stream store, each row is a channel. Python uses 0-based indexing, so we have to subtract 1 from our channel number when accessing the array"
   ]
  },
  {
   "cell_type": "code",
   "execution_count": 16,
   "metadata": {},
   "outputs": [
    {
     "name": "stdout",
     "output_type": "stream",
     "text": [
      "channel 1: [ 0.00100282  0.00100128  0.0009959  ... -0.0015984  -0.00159846\n",
      " -0.00158528]\n"
     ]
    }
   ],
   "source": [
    "print('channel 1:', data.streams.Wav1.data[0,:])"
   ]
  },
  {
   "cell_type": "code",
   "execution_count": 17,
   "metadata": {},
   "outputs": [
    {
     "name": "stdout",
     "output_type": "stream",
     "text": [
      "number of samples: 1490944\n"
     ]
    }
   ],
   "source": [
    "num_samples = len(data.streams.Wav1.data[0])\n",
    "print('number of samples:', num_samples)"
   ]
  },
  {
   "cell_type": "markdown",
   "metadata": {},
   "source": [
    "Create time vector for plotting by dividing the number of samples in the array by the sampling rate"
   ]
  },
  {
   "cell_type": "code",
   "execution_count": 18,
   "metadata": {},
   "outputs": [],
   "source": [
    "Wav1_time = np.linspace(1, num_samples, num_samples) / data.streams.Wav1.fs"
   ]
  },
  {
   "cell_type": "markdown",
   "metadata": {},
   "source": [
    "Plot the first 2 seconds from a single channel"
   ]
  },
  {
   "cell_type": "code",
   "execution_count": 19,
   "metadata": {},
   "outputs": [
    {
     "data": {
      "image/png": "[encoded data removed]",
      "text/plain": [
       "<Figure size 720x432 with 1 Axes>"
      ]
     },
     "metadata": {
      "needs_background": "light"
     },
     "output_type": "display_data"
    }
   ],
   "source": [
    "t = int(2 * data.streams.Wav1.fs) # int rounds it to the nearest integer\n",
    "\n",
    "# declare the figure size\n",
    "fig1 = plt.subplots(figsize=(10, 6))\n",
    "\n",
    "channel = 1 \n",
    "\n",
    "# plot the line using slices\n",
    "plt.plot(Wav1_time[0:t], data.streams.Wav1.data[channel-1,0:t], color='cornflowerblue')\n",
    "\n",
    "# Some matplotlib stuff\n",
    "# add an annotation mark to the figure\n",
    "plt.annotate('Point Here',\n",
    "             xy=(0.8,0.002),\n",
    "             xytext=(.88,.003),\n",
    "             arrowprops=dict(arrowstyle='->', color='k')\n",
    "            )\n",
    "\n",
    "# create title, axis labels, and legend\n",
    "plt.title('Wav1 Data', fontsize=16)\n",
    "plt.xlabel('Seconds', fontsize=14)\n",
    "plt.ylabel('Volts', fontsize=14)\n",
    "plt.legend(('Channel {}'.format(channel),),\n",
    "           loc='lower right', \n",
    "           bbox_to_anchor=(1.0,1.01)\n",
    "          )\n",
    "plt.autoscale(tight=True)\n",
    "plt.show()"
   ]
  },
  {
   "cell_type": "markdown",
   "metadata": {},
   "source": [
    "***Python Tip!**\n",
    "\n",
    "Array slices in Python have some notable differences.\n",
    "1. Zero-based indexing\n",
    "2. Omit 'end' and just use a negative index to index starting from the end of the array\n",
    "3. Omit the starting index if you want to include the first element\n",
    "\n",
    "Matlab array slices\n",
    "```\n",
    "arr = 1:10;          % arr = [1 2 3 4 5 6 7 8 9 10]\n",
    "b = arr(3:5);        % b = [3 4 5]\n",
    "c = arr(1:end-2);    % c = [1 2 3 4 5 6 7 8]\n",
    "d = arr(end-1:end);  % d = [9 10]\n",
    "```\n",
    "\n",
    "Python equivalent\n",
    "```\n",
    "arr = np.arange(1,11)  # arr = [1 2 3 4 5 6 7 8 9 10]\n",
    "b = arr[2:5]           # b = [3 4 5]\n",
    "c = arr[:-2]           # c = [1 2 3 4 5 6 7 8]\n",
    "d = arr[-2:]           # d = [9 10]\n",
    "```\n",
    "\n",
    "For reference, here are some matplotlib colors originally from [this stackoverflow answer](https://stackoverflow.com/a/37232760)\n",
    "![originally from https://stackoverflow.com/questions/22408237/named-colors-in-matplotlib](https://i.stack.imgur.com/lFZum.png)\n"
   ]
  },
  {
   "cell_type": "markdown",
   "metadata": {
    "collapsed": true
   },
   "source": [
    "## Explore Epoc Events"
   ]
  },
  {
   "cell_type": "markdown",
   "metadata": {},
   "source": [
    "Let's look at the contents of the epoc event structures."
   ]
  },
  {
   "cell_type": "code",
   "execution_count": 20,
   "metadata": {
    "scrolled": true
   },
   "outputs": [
    {
     "name": "stdout",
     "output_type": "stream",
     "text": [
      "all epoc events\n",
      "Pu1e\t[struct]\n",
      "PC0_\t[struct]\n"
     ]
    }
   ],
   "source": [
    "print('all epoc events')\n",
    "print(data.epocs)"
   ]
  },
  {
   "cell_type": "code",
   "execution_count": 21,
   "metadata": {},
   "outputs": [
    {
     "name": "stdout",
     "output_type": "stream",
     "text": [
      "name:\t'Pu1e'\n",
      "onset:\tarray([1.23739243e-04, 3.50011492e+00, 7.00010586e+00, 1.05000970e+01,\n",
      "       1.40000880e+01, 1.75000789e+01, 2.10000701e+01, 2.45000610e+01,\n",
      "       2.80000522e+01, 3.15000432e+01, 3.50000343e+01, 3.85000253e+01,\n",
      "       4.20000162e+01, 4.55000074e+01, 4.89999983e+01, 5.24999895e+01,\n",
      "       5.59999804e+01, 5.94999716e+01])\n",
      "offset:\tarray([ 0.30011487,  3.80010581,  7.30009699, 10.80008793, 14.30007911,\n",
      "       17.80007005, 21.30006123, 24.80005217, 28.30004311, 31.80003428,\n",
      "       35.30002522, 38.8000164 , 42.30000734, 45.79999828, 49.29998946,\n",
      "       52.7999804 , 56.29997158, 59.79996252])\n",
      "type:\t'onset'\n",
      "type_str:\t'epocs'\n",
      "data:\tarray([ 1.,  2.,  3.,  4.,  5.,  6.,  7.,  8.,  9., 10., 11., 12., 13.,\n",
      "       14., 15., 16., 17., 18.])\n",
      "dform:\t4\n",
      "size:\t10\n"
     ]
    }
   ],
   "source": [
    "print(data.epocs.Pu1e)"
   ]
  },
  {
   "cell_type": "code",
   "execution_count": 22,
   "metadata": {},
   "outputs": [
    {
     "data": {
      "image/png": "[encoded data removed]",
      "text/plain": [
       "<Figure size 720x432 with 1 Axes>"
      ]
     },
     "metadata": {
      "needs_background": "light"
     },
     "output_type": "display_data"
    }
   ],
   "source": [
    "# a simple plot\n",
    "fig1 = plt.subplots(figsize=(10, 6))\n",
    "plt.stem(data.epocs.Pu1e.onset, data.epocs.Pu1e.data)\n",
    "plt.show()"
   ]
  }
 ],
 "metadata": {
  "kernelspec": {
   "display_name": "Python 3",
   "language": "python",
   "name": "python3"
  },
  "language_info": {
   "codemirror_mode": {
    "name": "ipython",
    "version": 3
   },
   "file_extension": ".py",
   "mimetype": "text/x-python",
   "name": "python",
   "nbconvert_exporter": "python",
   "pygments_lexer": "ipython3",
   "version": "3.7.3"
  }
 },
 "nbformat": 4,
 "nbformat_minor": 2
}
